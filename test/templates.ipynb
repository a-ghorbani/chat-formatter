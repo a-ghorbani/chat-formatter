{
 "cells": [
  {
   "cell_type": "code",
   "execution_count": 2,
   "metadata": {},
   "outputs": [],
   "source": [
    "from transformers import AutoTokenizer\n",
    "from jinja2 import TemplateError\n",
    "\n",
    "chat = [\n",
    "    { \"role\": 'user', \"content\": 'Hi there!' },\n",
    "    { \"role\": 'assistant', \"content\": 'Nice to meet you!' },\n",
    "    { \"role\": 'user', \"content\": 'Can I ask a question?' }\n",
    "]\n",
    "\n",
    "chat_w_system = [\n",
    "    { \"role\": 'system', \"content\": 'System prompt.' },\n",
    "    { \"role\": 'user', \"content\": 'Hi there!' },\n",
    "    { \"role\": 'assistant', \"content\": 'Nice to meet you!' },\n",
    "    { \"role\": 'user', \"content\": 'Can I ask a question?' }\n",
    "]\n",
    "\n",
    "def applyTemplate(model_id):\n",
    "    tokenizer = AutoTokenizer.from_pretrained(model_id)\n",
    "    prompt = tokenizer.apply_chat_template(chat, tokenize=False, add_generation_prompt=False)\n",
    "    print(\" ================== w/o system ==================\")\n",
    "    print(\"--->\" + prompt + \"<---\")\n",
    "    print(\" ---------- add gen ----------\")\n",
    "    prompt = tokenizer.apply_chat_template(chat, tokenize=False, add_generation_prompt=True)\n",
    "    print(\"--->\" + prompt + \"<---\")\n",
    "    print(\" ================== w system ==================\")\n",
    "    try:\n",
    "        prompt = tokenizer.apply_chat_template(chat_w_system, tokenize=False, add_generation_prompt=False)\n",
    "        print(\"--->\" + prompt + \"<---\")\n",
    "        prompt = tokenizer.apply_chat_template(chat_w_system, tokenize=False, add_generation_prompt=True)\n",
    "        print(\" ---------- add gen ----------\")\n",
    "        print(\"--->\" + prompt + \"<---\")\n",
    "    except TemplateError as e:\n",
    "        print(e)\n",
    "    print(\"===========================================\")\n",
    "\n",
    "    "
   ]
  },
  {
   "cell_type": "code",
   "execution_count": 32,
   "metadata": {},
   "outputs": [
    {
     "name": "stdout",
     "output_type": "stream",
     "text": [
      " ================== w/o system ==================\n",
      "---><|begin_of_text|><|start_header_id|>system<|end_header_id|>\n",
      "\n",
      "Cutting Knowledge Date: December 2023\n",
      "Today Date: 26 Jul 2024\n",
      "\n",
      "<|eot_id|><|start_header_id|>user<|end_header_id|>\n",
      "\n",
      "Hi there!<|eot_id|><|start_header_id|>assistant<|end_header_id|>\n",
      "\n",
      "Nice to meet you!<|eot_id|><|start_header_id|>user<|end_header_id|>\n",
      "\n",
      "Can I ask a question?<|eot_id|><---\n",
      " ---------- add gen ----------\n",
      "---><|begin_of_text|><|start_header_id|>system<|end_header_id|>\n",
      "\n",
      "Cutting Knowledge Date: December 2023\n",
      "Today Date: 26 Jul 2024\n",
      "\n",
      "<|eot_id|><|start_header_id|>user<|end_header_id|>\n",
      "\n",
      "Hi there!<|eot_id|><|start_header_id|>assistant<|end_header_id|>\n",
      "\n",
      "Nice to meet you!<|eot_id|><|start_header_id|>user<|end_header_id|>\n",
      "\n",
      "Can I ask a question?<|eot_id|><|start_header_id|>assistant<|end_header_id|>\n",
      "\n",
      "<---\n",
      " ================== w system ==================\n",
      "---><|begin_of_text|><|start_header_id|>system<|end_header_id|>\n",
      "\n",
      "Cutting Knowledge Date: December 2023\n",
      "Today Date: 26 Jul 2024\n",
      "\n",
      "System prompt.<|eot_id|><|start_header_id|>user<|end_header_id|>\n",
      "\n",
      "Hi there!<|eot_id|><|start_header_id|>assistant<|end_header_id|>\n",
      "\n",
      "Nice to meet you!<|eot_id|><|start_header_id|>user<|end_header_id|>\n",
      "\n",
      "Can I ask a question?<|eot_id|><---\n",
      " ---------- add gen ----------\n",
      "---><|begin_of_text|><|start_header_id|>system<|end_header_id|>\n",
      "\n",
      "Cutting Knowledge Date: December 2023\n",
      "Today Date: 26 Jul 2024\n",
      "\n",
      "System prompt.<|eot_id|><|start_header_id|>user<|end_header_id|>\n",
      "\n",
      "Hi there!<|eot_id|><|start_header_id|>assistant<|end_header_id|>\n",
      "\n",
      "Nice to meet you!<|eot_id|><|start_header_id|>user<|end_header_id|>\n",
      "\n",
      "Can I ask a question?<|eot_id|><|start_header_id|>assistant<|end_header_id|>\n",
      "\n",
      "<---\n",
      "===========================================\n"
     ]
    }
   ],
   "source": [
    "applyTemplate(\"meta-llama/Meta-Llama-3.1-8B-Instruct\")"
   ]
  },
  {
   "cell_type": "code",
   "execution_count": 33,
   "metadata": {},
   "outputs": [
    {
     "name": "stdout",
     "output_type": "stream",
     "text": [
      " ================== w/o system ==================\n",
      "---><|user|>\n",
      "Hi there!<|end|>\n",
      "<|assistant|>\n",
      "Nice to meet you!<|end|>\n",
      "<|user|>\n",
      "Can I ask a question?<|end|>\n",
      "<|endoftext|><---\n",
      " ---------- add gen ----------\n",
      "---><|user|>\n",
      "Hi there!<|end|>\n",
      "<|assistant|>\n",
      "Nice to meet you!<|end|>\n",
      "<|user|>\n",
      "Can I ask a question?<|end|>\n",
      "<|assistant|>\n",
      "<---\n",
      " ================== w system ==================\n",
      "---><|system|>\n",
      "System prompt.<|end|>\n",
      "<|user|>\n",
      "Hi there!<|end|>\n",
      "<|assistant|>\n",
      "Nice to meet you!<|end|>\n",
      "<|user|>\n",
      "Can I ask a question?<|end|>\n",
      "<|endoftext|><---\n",
      " ---------- add gen ----------\n",
      "---><|system|>\n",
      "System prompt.<|end|>\n",
      "<|user|>\n",
      "Hi there!<|end|>\n",
      "<|assistant|>\n",
      "Nice to meet you!<|end|>\n",
      "<|user|>\n",
      "Can I ask a question?<|end|>\n",
      "<|assistant|>\n",
      "<---\n",
      "===========================================\n"
     ]
    }
   ],
   "source": [
    "applyTemplate(\"microsoft/Phi-3.5-mini-instruct\")"
   ]
  },
  {
   "cell_type": "code",
   "execution_count": 39,
   "metadata": {},
   "outputs": [
    {
     "name": "stdout",
     "output_type": "stream",
     "text": [
      " ================== w/o system ==================\n",
      "---><bos><start_of_turn>user\n",
      "Hi there!<end_of_turn>\n",
      "<start_of_turn>model\n",
      "Nice to meet you!<end_of_turn>\n",
      "<start_of_turn>user\n",
      "Can I ask a question?<end_of_turn>\n",
      "<---\n",
      " ---------- add gen ----------\n",
      "---><bos><start_of_turn>user\n",
      "Hi there!<end_of_turn>\n",
      "<start_of_turn>model\n",
      "Nice to meet you!<end_of_turn>\n",
      "<start_of_turn>user\n",
      "Can I ask a question?<end_of_turn>\n",
      "<start_of_turn>model\n",
      "<---\n",
      " ================== w system ==================\n",
      "System role not supported\n",
      "===========================================\n"
     ]
    }
   ],
   "source": [
    "applyTemplate(\"google/gemma-2b-it\")"
   ]
  },
  {
   "cell_type": "code",
   "execution_count": 40,
   "metadata": {},
   "outputs": [
    {
     "name": "stdout",
     "output_type": "stream",
     "text": [
      " ================== w/o system ==================\n",
      "---><|prompt|>Hi there!</s><|answer|>Nice to meet you!</s><|prompt|>Can I ask a question?</s><---\n",
      " ---------- add gen ----------\n",
      "---><|prompt|>Hi there!</s><|answer|>Nice to meet you!</s><|prompt|>Can I ask a question?</s><|answer|><---\n",
      " ================== w system ==================\n",
      "System role not supported\n",
      "===========================================\n"
     ]
    }
   ],
   "source": [
    "applyTemplate(\"h2oai/h2o-danube2-1.8b-chat\")"
   ]
  },
  {
   "cell_type": "code",
   "execution_count": 4,
   "metadata": {},
   "outputs": [
    {
     "data": {
      "application/vnd.jupyter.widget-view+json": {
       "model_id": "3ea3641f14064ebb9b6a43c8afcba20f",
       "version_major": 2,
       "version_minor": 0
      },
      "text/plain": [
       "tokenizer_config.json:   0%|          | 0.00/1.29k [00:00<?, ?B/s]"
      ]
     },
     "metadata": {},
     "output_type": "display_data"
    },
    {
     "data": {
      "application/vnd.jupyter.widget-view+json": {
       "model_id": "d3549f29969548fd9d857438d601465d",
       "version_major": 2,
       "version_minor": 0
      },
      "text/plain": [
       "vocab.json:   0%|          | 0.00/2.78M [00:00<?, ?B/s]"
      ]
     },
     "metadata": {},
     "output_type": "display_data"
    },
    {
     "data": {
      "application/vnd.jupyter.widget-view+json": {
       "model_id": "f625b51018494b4dbafc963f7fd1b44c",
       "version_major": 2,
       "version_minor": 0
      },
      "text/plain": [
       "merges.txt:   0%|          | 0.00/1.67M [00:00<?, ?B/s]"
      ]
     },
     "metadata": {},
     "output_type": "display_data"
    },
    {
     "data": {
      "application/vnd.jupyter.widget-view+json": {
       "model_id": "106241ce59684219afd0ea12fd2c4f00",
       "version_major": 2,
       "version_minor": 0
      },
      "text/plain": [
       "tokenizer.json:   0%|          | 0.00/7.03M [00:00<?, ?B/s]"
      ]
     },
     "metadata": {},
     "output_type": "display_data"
    },
    {
     "name": "stdout",
     "output_type": "stream",
     "text": [
      " ================== w/o system ==================\n",
      "---><|im_start|>system\n",
      "You are a helpful assistant.<|im_end|>\n",
      "<|im_start|>user\n",
      "Hi there!<|im_end|>\n",
      "<|im_start|>assistant\n",
      "Nice to meet you!<|im_end|>\n",
      "<|im_start|>user\n",
      "Can I ask a question?<|im_end|>\n",
      "<---\n",
      " ---------- add gen ----------\n",
      "---><|im_start|>system\n",
      "You are a helpful assistant.<|im_end|>\n",
      "<|im_start|>user\n",
      "Hi there!<|im_end|>\n",
      "<|im_start|>assistant\n",
      "Nice to meet you!<|im_end|>\n",
      "<|im_start|>user\n",
      "Can I ask a question?<|im_end|>\n",
      "<|im_start|>assistant\n",
      "<---\n",
      " ================== w system ==================\n",
      "---><|im_start|>system\n",
      "System prompt.<|im_end|>\n",
      "<|im_start|>user\n",
      "Hi there!<|im_end|>\n",
      "<|im_start|>assistant\n",
      "Nice to meet you!<|im_end|>\n",
      "<|im_start|>user\n",
      "Can I ask a question?<|im_end|>\n",
      "<---\n",
      " ---------- add gen ----------\n",
      "---><|im_start|>system\n",
      "System prompt.<|im_end|>\n",
      "<|im_start|>user\n",
      "Hi there!<|im_end|>\n",
      "<|im_start|>assistant\n",
      "Nice to meet you!<|im_end|>\n",
      "<|im_start|>user\n",
      "Can I ask a question?<|im_end|>\n",
      "<|im_start|>assistant\n",
      "<---\n",
      "===========================================\n"
     ]
    }
   ],
   "source": [
    "applyTemplate(\"Qwen/Qwen2-1.5B-Instruct\")"
   ]
  },
  {
   "cell_type": "code",
   "execution_count": 3,
   "metadata": {},
   "outputs": [
    {
     "data": {
      "application/vnd.jupyter.widget-view+json": {
       "model_id": "40c2e78fdfc14805a93659f037a1f1c6",
       "version_major": 2,
       "version_minor": 0
      },
      "text/plain": [
       "tokenizer_config.json:   0%|          | 0.00/7.31k [00:00<?, ?B/s]"
      ]
     },
     "metadata": {},
     "output_type": "display_data"
    },
    {
     "data": {
      "application/vnd.jupyter.widget-view+json": {
       "model_id": "52fb4d9729a4403d92cc59dd8c384482",
       "version_major": 2,
       "version_minor": 0
      },
      "text/plain": [
       "vocab.json:   0%|          | 0.00/2.78M [00:00<?, ?B/s]"
      ]
     },
     "metadata": {},
     "output_type": "display_data"
    },
    {
     "data": {
      "application/vnd.jupyter.widget-view+json": {
       "model_id": "8eb49f361ef94bc2b8efc78b63d65c1c",
       "version_major": 2,
       "version_minor": 0
      },
      "text/plain": [
       "merges.txt:   0%|          | 0.00/1.67M [00:00<?, ?B/s]"
      ]
     },
     "metadata": {},
     "output_type": "display_data"
    },
    {
     "data": {
      "application/vnd.jupyter.widget-view+json": {
       "model_id": "21d36efbf4cf43fb9f9bc3c7ad133426",
       "version_major": 2,
       "version_minor": 0
      },
      "text/plain": [
       "tokenizer.json:   0%|          | 0.00/7.03M [00:00<?, ?B/s]"
      ]
     },
     "metadata": {},
     "output_type": "display_data"
    },
    {
     "name": "stdout",
     "output_type": "stream",
     "text": [
      " ================== w/o system ==================\n",
      "---><|im_start|>system\n",
      "You are Qwen, created by Alibaba Cloud. You are a helpful assistant.<|im_end|>\n",
      "<|im_start|>user\n",
      "Hi there!<|im_end|>\n",
      "<|im_start|>assistant\n",
      "Nice to meet you!<|im_end|>\n",
      "<|im_start|>user\n",
      "Can I ask a question?<|im_end|>\n",
      "<---\n",
      " ---------- add gen ----------\n",
      "---><|im_start|>system\n",
      "You are Qwen, created by Alibaba Cloud. You are a helpful assistant.<|im_end|>\n",
      "<|im_start|>user\n",
      "Hi there!<|im_end|>\n",
      "<|im_start|>assistant\n",
      "Nice to meet you!<|im_end|>\n",
      "<|im_start|>user\n",
      "Can I ask a question?<|im_end|>\n",
      "<|im_start|>assistant\n",
      "<---\n",
      " ================== w system ==================\n",
      "---><|im_start|>system\n",
      "System prompt.<|im_end|>\n",
      "<|im_start|>user\n",
      "Hi there!<|im_end|>\n",
      "<|im_start|>assistant\n",
      "Nice to meet you!<|im_end|>\n",
      "<|im_start|>user\n",
      "Can I ask a question?<|im_end|>\n",
      "<---\n",
      " ---------- add gen ----------\n",
      "---><|im_start|>system\n",
      "System prompt.<|im_end|>\n",
      "<|im_start|>user\n",
      "Hi there!<|im_end|>\n",
      "<|im_start|>assistant\n",
      "Nice to meet you!<|im_end|>\n",
      "<|im_start|>user\n",
      "Can I ask a question?<|im_end|>\n",
      "<|im_start|>assistant\n",
      "<---\n",
      "===========================================\n"
     ]
    }
   ],
   "source": [
    "applyTemplate(\"Qwen/Qwen2.5-1.5B-Instruct\")"
   ]
  },
  {
   "cell_type": "code",
   "execution_count": null,
   "metadata": {},
   "outputs": [],
   "source": []
  }
 ],
 "metadata": {
  "kernelspec": {
   "display_name": "Python 10 (py10)",
   "language": "python",
   "name": "py10"
  },
  "language_info": {
   "codemirror_mode": {
    "name": "ipython",
    "version": 3
   },
   "file_extension": ".py",
   "mimetype": "text/x-python",
   "name": "python",
   "nbconvert_exporter": "python",
   "pygments_lexer": "ipython3",
   "version": "3.10.15"
  }
 },
 "nbformat": 4,
 "nbformat_minor": 2
}
